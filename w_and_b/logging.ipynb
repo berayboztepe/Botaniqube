{
 "cells": [
  {
   "cell_type": "markdown",
   "metadata": {},
   "source": [
    "# Exemplary use of WandB logging"
   ]
  },
  {
   "cell_type": "code",
   "execution_count": 5,
   "metadata": {},
   "outputs": [
    {
     "name": "stderr",
     "output_type": "stream",
     "text": [
      "Failed to detect the name of this notebook, you can set it manually with the WANDB_NOTEBOOK_NAME environment variable to enable code saving.\n",
      "\u001b[34m\u001b[1mwandb\u001b[0m: Currently logged in as: \u001b[33mantoni-krzysztof-czapski\u001b[0m. Use \u001b[1m`wandb login --relogin`\u001b[0m to force relogin\n"
     ]
    },
    {
     "data": {
      "application/vnd.jupyter.widget-view+json": {
       "model_id": "8e337e0d5cc341be9204881814ca4f7e",
       "version_major": 2,
       "version_minor": 0
      },
      "text/plain": [
       "VBox(children=(Label(value='Waiting for wandb.init()...\\r'), FloatProgress(value=0.011288888888925108, max=1.0…"
      ]
     },
     "metadata": {},
     "output_type": "display_data"
    },
    {
     "data": {
      "text/html": [
       "wandb version 0.16.6 is available!  To upgrade, please run:\n",
       " $ pip install wandb --upgrade"
      ],
      "text/plain": [
       "<IPython.core.display.HTML object>"
      ]
     },
     "metadata": {},
     "output_type": "display_data"
    },
    {
     "data": {
      "text/html": [
       "Tracking run with wandb version 0.16.4"
      ],
      "text/plain": [
       "<IPython.core.display.HTML object>"
      ]
     },
     "metadata": {},
     "output_type": "display_data"
    },
    {
     "data": {
      "text/html": [
       "Run data is saved locally in <code>c:\\Users\\user\\Studia\\DataScience\\Semestr_II\\Project_Deep_Learning\\w_and_b\\wandb\\run-20240429_224839-d34irvuy</code>"
      ],
      "text/plain": [
       "<IPython.core.display.HTML object>"
      ]
     },
     "metadata": {},
     "output_type": "display_data"
    },
    {
     "data": {
      "text/html": [
       "Syncing run <strong><a href='https://wandb.ai/antoni-krzysztof-czapski/botaniqube/runs/d34irvuy' target=\"_blank\">eager-breeze-4</a></strong> to <a href='https://wandb.ai/antoni-krzysztof-czapski/botaniqube' target=\"_blank\">Weights & Biases</a> (<a href='https://wandb.me/run' target=\"_blank\">docs</a>)<br/>"
      ],
      "text/plain": [
       "<IPython.core.display.HTML object>"
      ]
     },
     "metadata": {},
     "output_type": "display_data"
    },
    {
     "data": {
      "text/html": [
       " View project at <a href='https://wandb.ai/antoni-krzysztof-czapski/botaniqube' target=\"_blank\">https://wandb.ai/antoni-krzysztof-czapski/botaniqube</a>"
      ],
      "text/plain": [
       "<IPython.core.display.HTML object>"
      ]
     },
     "metadata": {},
     "output_type": "display_data"
    },
    {
     "data": {
      "text/html": [
       " View run at <a href='https://wandb.ai/antoni-krzysztof-czapski/botaniqube/runs/d34irvuy' target=\"_blank\">https://wandb.ai/antoni-krzysztof-czapski/botaniqube/runs/d34irvuy</a>"
      ],
      "text/plain": [
       "<IPython.core.display.HTML object>"
      ]
     },
     "metadata": {},
     "output_type": "display_data"
    },
    {
     "name": "stdout",
     "output_type": "stream",
     "text": [
      "Epoch [1/100], Loss: 0.6791, Accuracy: 0.6280\n",
      "Epoch [2/100], Loss: 0.6143, Accuracy: 0.6590\n",
      "Epoch [3/100], Loss: 0.6039, Accuracy: 0.6400\n",
      "Epoch [4/100], Loss: 0.5780, Accuracy: 0.6580\n",
      "Epoch [5/100], Loss: 0.6024, Accuracy: 0.6240\n",
      "Epoch [6/100], Loss: 0.5730, Accuracy: 0.6300\n",
      "Epoch [7/100], Loss: 0.5353, Accuracy: 0.6420\n",
      "Epoch [8/100], Loss: 0.5159, Accuracy: 0.6440\n",
      "Epoch [9/100], Loss: 0.4854, Accuracy: 0.6560\n",
      "Epoch [10/100], Loss: 0.4739, Accuracy: 0.7070\n",
      "Epoch [11/100], Loss: 0.4542, Accuracy: 0.7470\n",
      "Epoch [12/100], Loss: 0.4208, Accuracy: 0.7740\n",
      "Epoch [13/100], Loss: 0.3929, Accuracy: 0.8070\n",
      "Epoch [14/100], Loss: 0.3543, Accuracy: 0.8290\n",
      "Epoch [15/100], Loss: 0.3372, Accuracy: 0.8390\n",
      "Epoch [16/100], Loss: 0.3079, Accuracy: 0.8500\n",
      "Epoch [17/100], Loss: 0.2730, Accuracy: 0.8940\n",
      "Epoch [18/100], Loss: 0.2608, Accuracy: 0.9080\n",
      "Epoch [19/100], Loss: 0.2353, Accuracy: 0.9480\n",
      "Epoch [20/100], Loss: 0.2066, Accuracy: 0.9690\n",
      "Epoch [21/100], Loss: 0.1898, Accuracy: 0.9670\n",
      "Epoch [22/100], Loss: 0.1650, Accuracy: 0.9780\n",
      "Epoch [23/100], Loss: 0.1481, Accuracy: 0.9650\n",
      "Epoch [24/100], Loss: 0.1365, Accuracy: 0.9730\n",
      "Epoch [25/100], Loss: 0.1191, Accuracy: 0.9740\n",
      "Epoch [26/100], Loss: 0.1063, Accuracy: 0.9840\n",
      "Epoch [27/100], Loss: 0.0981, Accuracy: 0.9840\n",
      "Epoch [28/100], Loss: 0.0994, Accuracy: 0.9810\n",
      "Epoch [29/100], Loss: 0.0806, Accuracy: 0.9810\n",
      "Epoch [30/100], Loss: 0.0922, Accuracy: 0.9790\n",
      "Epoch [31/100], Loss: 0.0730, Accuracy: 0.9880\n",
      "Epoch [32/100], Loss: 0.0671, Accuracy: 0.9810\n",
      "Epoch [33/100], Loss: 0.0681, Accuracy: 0.9890\n",
      "Epoch [34/100], Loss: 0.0621, Accuracy: 0.9890\n",
      "Epoch [35/100], Loss: 0.0543, Accuracy: 0.9850\n",
      "Epoch [36/100], Loss: 0.0617, Accuracy: 0.9880\n",
      "Epoch [37/100], Loss: 0.0547, Accuracy: 0.9810\n",
      "Epoch [38/100], Loss: 0.0506, Accuracy: 0.9840\n",
      "Epoch [39/100], Loss: 0.0471, Accuracy: 0.9890\n",
      "Epoch [40/100], Loss: 0.0544, Accuracy: 0.9860\n",
      "Epoch [41/100], Loss: 0.0402, Accuracy: 0.9960\n",
      "Epoch [42/100], Loss: 0.0523, Accuracy: 0.9830\n",
      "Epoch [43/100], Loss: 0.0405, Accuracy: 0.9910\n",
      "Epoch [44/100], Loss: 0.0387, Accuracy: 0.9900\n",
      "Epoch [45/100], Loss: 0.0410, Accuracy: 0.9930\n",
      "Epoch [46/100], Loss: 0.0450, Accuracy: 0.9870\n",
      "Epoch [47/100], Loss: 0.0412, Accuracy: 0.9880\n",
      "Epoch [48/100], Loss: 0.0408, Accuracy: 0.9900\n",
      "Epoch [49/100], Loss: 0.0332, Accuracy: 0.9950\n",
      "Epoch [50/100], Loss: 0.0433, Accuracy: 0.9840\n",
      "Epoch [51/100], Loss: 0.0323, Accuracy: 0.9960\n",
      "Epoch [52/100], Loss: 0.0364, Accuracy: 0.9980\n",
      "Epoch [53/100], Loss: 0.0396, Accuracy: 0.9860\n",
      "Epoch [54/100], Loss: 0.0356, Accuracy: 0.9920\n",
      "Epoch [55/100], Loss: 0.0401, Accuracy: 0.9890\n",
      "Epoch [56/100], Loss: 0.0357, Accuracy: 0.9960\n",
      "Epoch [57/100], Loss: 0.0325, Accuracy: 0.9950\n",
      "Epoch [58/100], Loss: 0.0391, Accuracy: 0.9890\n",
      "Epoch [59/100], Loss: 0.0343, Accuracy: 0.9940\n",
      "Epoch [60/100], Loss: 0.0303, Accuracy: 0.9940\n",
      "Epoch [61/100], Loss: 0.0267, Accuracy: 0.9940\n",
      "Epoch [62/100], Loss: 0.0396, Accuracy: 0.9840\n",
      "Epoch [63/100], Loss: 0.0332, Accuracy: 0.9970\n",
      "Epoch [64/100], Loss: 0.0313, Accuracy: 0.9970\n",
      "Epoch [65/100], Loss: 0.0371, Accuracy: 0.9880\n",
      "Epoch [66/100], Loss: 0.0258, Accuracy: 0.9960\n",
      "Epoch [67/100], Loss: 0.0324, Accuracy: 0.9900\n",
      "Epoch [68/100], Loss: 0.0284, Accuracy: 0.9970\n",
      "Epoch [69/100], Loss: 0.0291, Accuracy: 0.9950\n",
      "Epoch [70/100], Loss: 0.0359, Accuracy: 0.9880\n",
      "Epoch [71/100], Loss: 0.0281, Accuracy: 0.9960\n",
      "Epoch [72/100], Loss: 0.0363, Accuracy: 0.9830\n",
      "Epoch [73/100], Loss: 0.0291, Accuracy: 0.9970\n",
      "Epoch [74/100], Loss: 0.0330, Accuracy: 0.9880\n",
      "Epoch [75/100], Loss: 0.0321, Accuracy: 0.9940\n",
      "Epoch [76/100], Loss: 0.0327, Accuracy: 0.9870\n",
      "Epoch [77/100], Loss: 0.0331, Accuracy: 0.9850\n",
      "Epoch [78/100], Loss: 0.0277, Accuracy: 0.9950\n",
      "Epoch [79/100], Loss: 0.0509, Accuracy: 0.9750\n",
      "Epoch [80/100], Loss: 0.0242, Accuracy: 0.9950\n",
      "Epoch [81/100], Loss: 0.0312, Accuracy: 0.9870\n",
      "Epoch [82/100], Loss: 0.0300, Accuracy: 0.9880\n",
      "Epoch [83/100], Loss: 0.0237, Accuracy: 0.9920\n",
      "Epoch [84/100], Loss: 0.0276, Accuracy: 0.9900\n",
      "Epoch [85/100], Loss: 0.0296, Accuracy: 0.9950\n",
      "Epoch [86/100], Loss: 0.0257, Accuracy: 0.9940\n",
      "Epoch [87/100], Loss: 0.0288, Accuracy: 0.9870\n",
      "Epoch [88/100], Loss: 0.0327, Accuracy: 0.9860\n",
      "Epoch [89/100], Loss: 0.0251, Accuracy: 0.9990\n",
      "Epoch [90/100], Loss: 0.0285, Accuracy: 0.9900\n",
      "Epoch [91/100], Loss: 0.0258, Accuracy: 0.9930\n",
      "Epoch [92/100], Loss: 0.0230, Accuracy: 0.9970\n",
      "Epoch [93/100], Loss: 0.0271, Accuracy: 0.9960\n",
      "Epoch [94/100], Loss: 0.0268, Accuracy: 0.9900\n",
      "Epoch [95/100], Loss: 0.0241, Accuracy: 0.9920\n",
      "Epoch [96/100], Loss: 0.0364, Accuracy: 0.9830\n",
      "Epoch [97/100], Loss: 0.0255, Accuracy: 0.9920\n",
      "Epoch [98/100], Loss: 0.0254, Accuracy: 0.9940\n",
      "Epoch [99/100], Loss: 0.0270, Accuracy: 0.9900\n",
      "Epoch [100/100], Loss: 0.0285, Accuracy: 0.9910\n"
     ]
    },
    {
     "data": {
      "application/vnd.jupyter.widget-view+json": {
       "model_id": "2e730095b82c44d48398e05720b60f60",
       "version_major": 2,
       "version_minor": 0
      },
      "text/plain": [
       "VBox(children=(Label(value='0.000 MB of 0.000 MB uploaded\\r'), FloatProgress(value=1.0, max=1.0)))"
      ]
     },
     "metadata": {},
     "output_type": "display_data"
    },
    {
     "data": {
      "text/html": [
       "<style>\n",
       "    table.wandb td:nth-child(1) { padding: 0 10px; text-align: left ; width: auto;} td:nth-child(2) {text-align: left ; width: 100%}\n",
       "    .wandb-row { display: flex; flex-direction: row; flex-wrap: wrap; justify-content: flex-start; width: 100% }\n",
       "    .wandb-col { display: flex; flex-direction: column; flex-basis: 100%; flex: 1; padding: 10px; }\n",
       "    </style>\n",
       "<div class=\"wandb-row\"><div class=\"wandb-col\"><h3>Run history:</h3><br/><table class=\"wandb\"><tr><td>accuracy</td><td>▁▁▁▁▃▄▅▆▇▇██████████████████████████████</td></tr><tr><td>loss</td><td>█▇▇▆▆▅▄▄▃▂▂▂▂▁▁▁▁▁▁▁▁▁▁▁▁▁▁▁▁▁▁▁▁▁▁▁▁▁▁▁</td></tr></table><br/></div><div class=\"wandb-col\"><h3>Run summary:</h3><br/><table class=\"wandb\"><tr><td>accuracy</td><td>0.991</td></tr><tr><td>loss</td><td>0.02851</td></tr></table><br/></div></div>"
      ],
      "text/plain": [
       "<IPython.core.display.HTML object>"
      ]
     },
     "metadata": {},
     "output_type": "display_data"
    },
    {
     "data": {
      "text/html": [
       " View run <strong style=\"color:#cdcd00\">eager-breeze-4</strong> at: <a href='https://wandb.ai/antoni-krzysztof-czapski/botaniqube/runs/d34irvuy' target=\"_blank\">https://wandb.ai/antoni-krzysztof-czapski/botaniqube/runs/d34irvuy</a><br/>Synced 6 W&B file(s), 0 media file(s), 0 artifact file(s) and 0 other file(s)"
      ],
      "text/plain": [
       "<IPython.core.display.HTML object>"
      ]
     },
     "metadata": {},
     "output_type": "display_data"
    },
    {
     "data": {
      "text/html": [
       "Find logs at: <code>.\\wandb\\run-20240429_224839-d34irvuy\\logs</code>"
      ],
      "text/plain": [
       "<IPython.core.display.HTML object>"
      ]
     },
     "metadata": {},
     "output_type": "display_data"
    }
   ],
   "source": [
    "import torch\n",
    "import torch.nn as nn\n",
    "import torch.optim as optim\n",
    "from sklearn.metrics import accuracy_score\n",
    "import numpy as np\n",
    "import wandb\n",
    "\n",
    "# Define the MLP architecture\n",
    "class SimpleMLP(nn.Module):\n",
    "    def __init__(self):\n",
    "        super(SimpleMLP, self).__init__()\n",
    "        self.layers = nn.Sequential(\n",
    "            nn.Linear(2, 64),\n",
    "            nn.ReLU(),\n",
    "            nn.Linear(64, 64),\n",
    "            nn.ReLU(),\n",
    "            nn.Linear(64, 1),\n",
    "            nn.Sigmoid()\n",
    "        )\n",
    "        \n",
    "    def forward(self, x):\n",
    "        return self.layers(x)\n",
    "\n",
    "# Generate synthetic data\n",
    "def generate_data(num_samples=1000):\n",
    "    X = np.random.uniform(-1.5, 1.5, size=(num_samples, 2))\n",
    "    y = np.linalg.norm(X, axis=1) <= 1  # inside the unit circle\n",
    "    y = y.astype(np.float32) \n",
    "    return torch.tensor(X, dtype=torch.float32), torch.tensor(y, dtype=torch.float32).unsqueeze(1)\n",
    "\n",
    "# initialize wandb\n",
    "wandb.init(project='botaniqube', entity='antoni-krzysztof-czapski')\n",
    "\n",
    "# Create model, optimizer, and loss function\n",
    "model = SimpleMLP()\n",
    "criterion = nn.BCELoss()\n",
    "optimizer = optim.Adam(model.parameters(), lr=0.01)\n",
    "\n",
    "# Training loop\n",
    "num_epochs = 100\n",
    "for epoch in range(num_epochs):\n",
    "    X_train, y_train = generate_data(1000)\n",
    "    \n",
    "    # Forward pass\n",
    "    outputs = model(X_train)\n",
    "    loss = criterion(outputs, y_train)\n",
    "    \n",
    "    # Backward pass and optimize\n",
    "    optimizer.zero_grad()\n",
    "    loss.backward()\n",
    "    optimizer.step()\n",
    "    \n",
    "    # Calculate accuracy\n",
    "    predicted = outputs.round()\n",
    "    accuracy = accuracy_score(y_train.detach().numpy(), predicted.detach().numpy())\n",
    "    \n",
    "    print(f'Epoch [{epoch+1}/{num_epochs}], Loss: {loss.item():.4f}, Accuracy: {accuracy:.4f}')\n",
    "    # log it to wandb so it could create line plots of loss and accuracy in different epochs\n",
    "    wandb.log({'loss': loss.item(), 'accuracy': accuracy})\n",
    "\n",
    "wandb.finish()\n"
   ]
  },
  {
   "cell_type": "code",
   "execution_count": 2,
   "metadata": {},
   "outputs": [
    {
     "data": {
      "image/png": "[encoded data removed]",
      "text/plain": [
       "<Figure size 640x480 with 2 Axes>"
      ]
     },
     "metadata": {},
     "output_type": "display_data"
    }
   ],
   "source": [
    "import matplotlib.pyplot as plt\n",
    "\n",
    "def plot_predictions(model, num_points=100):\n",
    "    # Create a mesh grid of points\n",
    "    x_values = np.linspace(-1.5, 1.5, num_points)\n",
    "    y_values = np.linspace(-1.5, 1.5, num_points)\n",
    "    xx, yy = np.meshgrid(x_values, y_values)\n",
    "    grid = np.c_[xx.ravel(), yy.ravel()]\n",
    "\n",
    "    # Convert to tensor\n",
    "    grid_tensor = torch.tensor(grid, dtype=torch.float32)\n",
    "\n",
    "    # Predict using the trained model\n",
    "    model.eval()  # Set the model to evaluation mode\n",
    "    with torch.no_grad():\n",
    "        predictions = model(grid_tensor).reshape(xx.shape)\n",
    "    \n",
    "    # Plot\n",
    "    plt.contourf(xx, yy, predictions.numpy(), levels=[0, 0.5, 1], cmap='RdYlBu')\n",
    "    plt.colorbar()\n",
    "    plt.title('MLP Classifier Predictions')\n",
    "    plt.xlabel('X coordinate')\n",
    "    plt.ylabel('Y coordinate')\n",
    "    plt.show()\n",
    "\n",
    "# Plot the model predictions\n",
    "plot_predictions(model)\n"
   ]
  }
 ],
 "metadata": {
  "kernelspec": {
   "display_name": "university-masters",
   "language": "python",
   "name": "python3"
  },
  "language_info": {
   "codemirror_mode": {
    "name": "ipython",
    "version": 3
   },
   "file_extension": ".py",
   "mimetype": "text/x-python",
   "name": "python",
   "nbconvert_exporter": "python",
   "pygments_lexer": "ipython3",
   "version": "3.9.18"
  }
 },
 "nbformat": 4,
 "nbformat_minor": 2
}
